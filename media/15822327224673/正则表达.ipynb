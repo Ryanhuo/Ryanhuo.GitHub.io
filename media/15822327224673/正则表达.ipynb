{
 "cells": [
  {
   "cell_type": "code",
   "execution_count": 18,
   "metadata": {},
   "outputs": [
    {
     "name": "stdout",
     "output_type": "stream",
     "text": [
      "<li class=\"current-menu-item\"><a href=\"http://www.kaikeba.com/\">hello</a></li>\n",
      "[<li class=\"current-menu-item\"><a href=\"http://www.kaikeba.com/\">hello</a></li>]\n"
     ]
    }
   ],
   "source": [
    "from bs4 import BeautifulSoup\n",
    "html = '''\n",
    "    <body>\n",
    "<header id=\"header\">\n",
    "    <h3 id=\"name\">小强也可爱</h3>\n",
    "    <title>标题</title>\n",
    "  <div class=\"sns\">\n",
    "    <a href=\"http://www.kaikeba.com/feed/\" target=\"_blank\" rel=\"nofollow\" title=\"RSS\"><i class=\"fa fa-rss\" aria-hidden=\"true\"></i></a>\n",
    "        <a href=\"http://kaikeba.com/kaikeba\" target=\"_blank\" rel=\"nofollow\" title=\"Weibo\"><i class=\"fa fa-weibo\" aria-hidden=\"true\"></i></a>\n",
    "                <a href=\"https://www.kaikeba.com/in/kaikeba\" target=\"_blank\" rel=\"nofollow\" title=\"Linkedin\"><i class=\"fa fa-linkedin\" aria-hidden=\"true\"></i></a>\n",
    "                <a href=\"mailto:kaikeba@gmail.com\" target=\"_blank\" rel=\"nofollow\" title=\"envelope\"><i class=\"fa fa-envelope\" aria-hidden=\"true\"></i></i></a>\n",
    "          </div>\n",
    "  <div class=\"nav\">\n",
    "   <ul><li class=\"current-menu-item\"><a href=\"http://www.kaikeba.com/\">hello</a></li>\n",
    "<li><a href=\"http://www.kaikeba.com/about-me/\">word</a></li>\n",
    "<li><a href=\"http://www.kaikeba.com/post-search/\">nihao</a></li>\n",
    "<li><a href=\"http://www.kaikeba.com/wp-login.php\">kkb</a></li>\n",
    "</ul>  </div>\n",
    "</header>\n",
    "</body>\n",
    "'''\n",
    "soup = BeautifulSoup(html,'lxml')\n",
    "# 格式化输出 soup 对象的内容\n",
    "# print(soup.prettify())\n",
    "\n",
    "# 根据标签名获取整个标签(但是拿出的是第一个)\n",
    "# print(soup.li)\n",
    "\n",
    "# 获取标签的名字\n",
    "# print(soup.title.name)\n",
    "\n",
    "# 获取标签中的文本\n",
    "# print(soup.title.string)\n",
    "\n",
    "# 获取标签title的父标标签\n",
    "# print(soup.title.parent.name)\n",
    "\n",
    "# 获取li标签的子标签\n",
    "# print(soup.li.contents)\n",
    "\n",
    "# 获取便签的属性值的两种方式\n",
    "# print(soup.li[\"class\"])\n",
    "# print(soup.li.attrs['class'])\n",
    "\n",
    "# 使用select，css选择器\n",
    "# print(soup.select('li'))\n",
    "# 类名前加.，id名前加#\n",
    "# print(soup.select('.current-menu-item'))\n",
    "\n",
    "# 获取内容\n",
    "# print(soup.select('.current-menu-item')[0].get_text())\n",
    "# 获取属性值\n",
    "# print(soup.select('.current-menu-item')[0].attrs['class'])\n",
    "\n",
    "# 获取li标签下面的子标签\n",
    "# print(soup.select('li > a')[1].get_text())\n",
    "\n",
    "# 使用find和findall进行查找\n",
    "# print(soup.find('li',attrs={'class':'current-menu-item'}))\n",
    "# print(soup.find_all('li',attrs={\"class\":\"current-menu-item\"}))\n",
    "\n"
   ]
  },
  {
   "cell_type": "code",
   "execution_count": 21,
   "metadata": {},
   "outputs": [],
   "source": [
    "from bs4 import BeautifulSoup\n",
    "def get_info():\n",
    "    headers = {\n",
    "        'User-Agent': 'Mozilla/5.0 (Macintosh; Intel Mac OS X 10_13_6) AppleWebKit/537.36 (KHTML, like Gecko) Chrome/74.0.3729.169 Safari/537.36'\n",
    "    }\n",
    "    \n",
    "    response = requests.get(url='https://www.mzitu.com/jiepai/',headers=headers)\n",
    "    soup = BeautifulSoup(response.text,'lxml')\n",
    "    \n",
    "    result = soup.find_all('img',attrs={'class':'lazy'})\n",
    "\n",
    "    for value in result:\n",
    "\n",
    "        response = requests.get(url=value.attrs['data-original'],headers=headers)\n",
    "    \n",
    "        path_name = './'+str(value.attrs['data-original'])[-5:-8:-1]+'.png'\n",
    "        \n",
    "        with open(path_name,'wb') as f:\n",
    "            f.write(response.content)\n",
    "    \n",
    "get_info()\n",
    "    \n"
   ]
  },
  {
   "cell_type": "code",
   "execution_count": 25,
   "metadata": {},
   "outputs": [
    {
     "name": "stdout",
     "output_type": "stream",
     "text": [
      "['link2.html', 'link4.html']\n",
      "['second item', 'fourth item']\n"
     ]
    }
   ],
   "source": [
    "from lxml import etree\n",
    "\n",
    "data_str = \"\"\"\n",
    "        <div>\n",
    "            <ul>\n",
    "                 <li class=\"item-0\"><a href=\"link1.html\">first item</a></li>\n",
    "                 <li class=\"item-1\"><a href=\"link2.html\">second item</a></li>\n",
    "                 <li class=\"item-inactive\"><a href=\"link3.html\">third item</a></li>\n",
    "                 <li class=\"item-1\"><a href=\"link4.html\">fourth item</a></li>\n",
    "                 <li class=\"item-0\"><a href=\"link5.html\">fifth item</a>\n",
    "             </ul>\n",
    "         </div>\n",
    "        \"\"\"\n",
    "# 注意： 该数据中缺少了一个li标签的闭合标签\n",
    "\n",
    "# 利用etree.HTML可以将字符串或者bytes转化为Element python对象，这个对象具有Xpath的方法\n",
    "html = etree.HTML(data_str)\n",
    "# print(html)\n",
    "\n",
    "# etree.tostring(html)可以自动修正HTML代码，补全了缺胳膊少腿的标签\n",
    "# 使用为了观察修改以后的html样子，根据修改后的HTML去写Xpath\n",
    "# result = etree.tostring(html)\n",
    "# print(result.decode(\"utf-8\"))\n",
    "\n",
    "# 获取class =item-1 的 a标签的href属性\n",
    "result = html.xpath('//li[@class=\"item-1\"]/a/@href')\n",
    "print(result)\n",
    "\n",
    "# 获取class =item-1 的 a标签的文本值\n",
    "result = html.xpath('//li[@class=\"item-1\"]/a/text()')\n",
    "print(result)"
   ]
  },
  {
   "cell_type": "code",
   "execution_count": 26,
   "metadata": {},
   "outputs": [
    {
     "name": "stdout",
     "output_type": "stream",
     "text": [
      "['http://www.baidu.com/link?url=qXu2m-M_QKRIt2Bb9xurDRieqEeTCiUWd5Pd4qGAsnDUQyjWVQHYV98gAQ73jzzB']\n"
     ]
    }
   ],
   "source": [
    "from lxml import etree\n",
    "import requests\n",
    "url = 'http://www.baidu.com/s?wd=python'\n",
    "reponse = requests.get(url)\n",
    "html = etree.HTML(reponse.text)\n",
    "url = html.xpath('//*[@id=\"1\"]/h3/a[1]/@href')\n",
    "print(url)\n"
   ]
  },
  {
   "cell_type": "code",
   "execution_count": 31,
   "metadata": {},
   "outputs": [
    {
     "name": "stdout",
     "output_type": "stream",
     "text": [
      "<li class=\"o1\">MM</li>\n",
      "            <li class=\"o2 active\">MN<a class=\"o22\">fad</a></li>\n",
      "            <li class=\"o3\">GN</li>\n",
      "        \n"
     ]
    }
   ],
   "source": [
    "from pyquery import PyQuery as pq\n",
    "html = \"\"\"\n",
    "<html lang=\"en\">\n",
    "    <head>\n",
    "        <title>PyQuery</title>\n",
    "    </head>\n",
    "    <body>\n",
    "        <ul id=\"container\">\n",
    "            <li class=\"o1\">MM</li>\n",
    "            <li class=\"o2 active\">MN<a class='o22'>fad</a></li>\n",
    "            <li class=\"o3\">GN</li>\n",
    "        </ul>\n",
    "    </body>\n",
    "</html>\n",
    "\"\"\"\n",
    "from pyquery import PyQuery as pq\n",
    "\n",
    "#用css选择器来实现，如果要选id前面加#，如果选class，前面加.，如果选标签名，什么也不加\n",
    "\n",
    "doc = pq(html)\n",
    "# 根据标签\n",
    "# print(doc('title')) \n",
    "# print(doc('#container'))\n",
    "# print(doc('.o1'))\n",
    "\n",
    "# 组合标签\n",
    "# print(doc('.o2.active'))#空格表示里面，没有空格表示整体\n",
    "# print(doc('.o2 .o22'))#空格表示里面，没有空格表示整体\n",
    "\n",
    "#利用find方法\n",
    "# print(doc.find('li'))\n",
    "\n",
    "# 也可以用.children()查找直接子元素\n",
    "# container = doc.find('#container')\n",
    "# print(container.children())\n",
    "\n"
   ]
  },
  {
   "cell_type": "code",
   "execution_count": null,
   "metadata": {},
   "outputs": [],
   "source": [
    "# 作业： \n",
    "\n",
    "\n",
    "http://search.dangdang.com/?key=python&act=input&page_index=1\n",
    "'http://search.dangdang.com/?key={}&act=input&page_index={}'.format()"
   ]
  }
 ],
 "metadata": {
  "kernelspec": {
   "display_name": "py37",
   "language": "python",
   "name": "py37"
  },
  "language_info": {
   "codemirror_mode": {
    "name": "ipython",
    "version": 3
   },
   "file_extension": ".py",
   "mimetype": "text/x-python",
   "name": "python",
   "nbconvert_exporter": "python",
   "pygments_lexer": "ipython3",
   "version": "3.7.3"
  }
 },
 "nbformat": 4,
 "nbformat_minor": 2
}
